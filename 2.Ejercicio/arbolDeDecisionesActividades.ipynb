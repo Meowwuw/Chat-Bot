{
 "cells": [
  {
   "cell_type": "code",
   "execution_count": 5,
   "id": "d7aeb730",
   "metadata": {},
   "outputs": [],
   "source": [
    "condiciones_climaticas = ['soleado', 'nublado', 'lluvioso']\n",
    "actividades = ['ir al cine', 'ir a la playa', 'quedarse en casa']\n",
    "datos = [\n",
    "    ['soleado', 'ir al cine'],\n",
    "    ['soleado', 'ir a la playa'],\n",
    "    ['soleado', 'quedarse en casa'],\n",
    "    ['nublado', 'ir al cine'],\n",
    "    ['nublado', 'ir a la playa'],\n",
    "    ['nublado', 'quedarse en casa'],\n",
    "    ['lluvioso', 'ir al cine'],\n",
    "    ['lluvioso', 'quedarse en casa']\n",
    "]\n"
   ]
  },
  {
   "cell_type": "code",
   "execution_count": 6,
   "id": "8bf4267b",
   "metadata": {},
   "outputs": [
    {
     "name": "stdout",
     "output_type": "stream",
     "text": [
      "|--- feature 1 <= 0.50\n",
      "|   |--- class: 0\n",
      "|--- feature 1 >  0.50\n",
      "|   |--- class: 1\n",
      "\n"
     ]
    }
   ],
   "source": [
    "from sklearn.tree import DecisionTreeClassifier, export_text\n",
    "\n",
    "# Entrenar modelo\n",
    "X = [[0, 0], [1, 1]]\n",
    "Y = [0, 1]\n",
    "clf = DecisionTreeClassifier()\n",
    "clf.fit(X, Y)\n",
    "\n",
    "# Imprimir árbol de decisiones en formato de texto\n",
    "#Esto es una simplificación del árbol completo, pero la estructura básica es la siguiente:\n",
    "\n",
    "#Si la condición climática es soleada o nublada, entonces se debe ir al cine (clase 0); \n",
    "#Si la condición climática es lluviosa, entonces se debe ir a la playa (clase 1).\n",
    "tree_rules = export_text(clf, feature_names=['feature 1', 'feature 2'])\n",
    "print(tree_rules)\n",
    "\n"
   ]
  },
  {
   "cell_type": "code",
   "execution_count": null,
   "id": "6b7b91ce",
   "metadata": {},
   "outputs": [],
   "source": []
  },
  {
   "cell_type": "code",
   "execution_count": null,
   "id": "bfc5896c",
   "metadata": {},
   "outputs": [],
   "source": []
  }
 ],
 "metadata": {
  "kernelspec": {
   "display_name": "Python 3 (ipykernel)",
   "language": "python",
   "name": "python3"
  },
  "language_info": {
   "codemirror_mode": {
    "name": "ipython",
    "version": 3
   },
   "file_extension": ".py",
   "mimetype": "text/x-python",
   "name": "python",
   "nbconvert_exporter": "python",
   "pygments_lexer": "ipython3",
   "version": "3.9.13"
  }
 },
 "nbformat": 4,
 "nbformat_minor": 5
}
